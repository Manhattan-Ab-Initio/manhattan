{
 "metadata": {
  "name": "particle_simulator"
 },
 "nbformat": 3,
 "nbformat_minor": 0,
 "worksheets": [
  {
   "cells": [
    {
     "cell_type": "code",
     "collapsed": false,
     "input": [
      "import numpy as np"
     ],
     "language": "python",
     "metadata": {},
     "outputs": [],
     "prompt_number": 57
    },
    {
     "cell_type": "code",
     "collapsed": false,
     "input": [
      "class Particle():\n",
      "    #__slots__ = ('x', 'y', 'ang_speed')\n",
      "    \n",
      "    def __init__(self, x, y, ang_speed):\n",
      "        self.x = x\n",
      "        self.y = y\n",
      "        self.ang_speed = ang_speed"
     ],
     "language": "python",
     "metadata": {},
     "outputs": [],
     "prompt_number": 63
    },
    {
     "cell_type": "code",
     "collapsed": false,
     "input": [
      "class ParticleSimulator:\n",
      "    def __init__(self, particles):\n",
      "        self.particles = particles\n",
      "\n",
      "\n",
      "    def evolve(self, dt):\n",
      "        timestep = 0.00001\n",
      "        nsteps = int(dt/timestep)\n",
      "        \n",
      "        r_i = np.array([[p.x, p.y] for p in self.particles])\n",
      "        ang_speed_i = np.array([p.ang_speed for p in self.particles])\n",
      "\n",
      "        v_i = np.empty_like(r_i)\n",
      "        \n",
      "        ang_speed_i = np.array([p.ang_speed for p in self.particles])\n",
      "        \n",
      "        for i in range(nsteps):\n",
      "            norm_i = np.sqrt((r_i ** 2).sum(axis=1))\n",
      "            v_i = r_i[:, [1, 0]]\n",
      "            v_i[:, 0] *= -1\n",
      "            v_i /= norm_i[:, np.newaxis]\n",
      "            d_i = timestep * ang_speed_i[:, np.newaxis] * v_i\n",
      "            r_i += d_i\n",
      "            \n",
      "            for i, p in enumerate(self.particles):\n",
      "                p.x, p.y = r_i[i]\n",
      "            \n",
      "\n",
      "    def slow_evolve(self, dt):\n",
      "        timestep = 0.00001\n",
      "        nsteps = int(dt/timestep)\n",
      "        \n",
      "        for i in range(nsteps):\n",
      "            for p in self.particles:\n",
      "                # 1. calculate the direction\n",
      "                norm = (p.x**2 + p.y**2)**0.5\n",
      "                v_x = (-p.y) / norm\n",
      "                v_y = p.x / norm\n",
      "                \n",
      "                # 2. calculate the displacement\n",
      "                d_x = timestep * p.ang_speed * v_x\n",
      "                d_y = timestep * p.ang_speed * v_y\n",
      "                \n",
      "                p.x += d_x\n",
      "                p.y += d_y\n",
      "                # 3. reoeat for all timesteps\n",
      "                                              "
     ],
     "language": "python",
     "metadata": {},
     "outputs": [],
     "prompt_number": 87
    },
    {
     "cell_type": "code",
     "collapsed": false,
     "input": [
      "from matplotlib import pyplot as plt\n",
      "from matplotlib import animation"
     ],
     "language": "python",
     "metadata": {},
     "outputs": []
    },
    {
     "cell_type": "code",
     "collapsed": false,
     "input": [
      "def visualize(simulator):\n",
      "    \n",
      "    X = [p.x for p in simulator.particles]\n",
      "    Y = [p.y for p in simulator.particles]\n",
      "    \n",
      "    fig = plt.figure()\n",
      "    ax = plt.subplot(111, aspect='equal')\n",
      "    line, = ax.plot(X, Y, 'ro')\n",
      "    \n",
      "    # axis limits\n",
      "    plt.xlim(-1, 1)\n",
      "    plt.ylim(-1, 1)\n",
      "    \n",
      "    # it will be run when the animation starts\n",
      "    def init():\n",
      "        line.set_data([], [])\n",
      "        return line,\n",
      "    \n",
      "    def animate(i):\n",
      "        # we let the particle evolve for 0.1 time units\n",
      "        simulator.evolve(0.01)\n",
      "        X = [p.x for p in simulator.particles]\n",
      "        Y = [p.y for p in simulator.particles]\n",
      "        \n",
      "        line.set_data(X, Y)\n",
      "        return line,\n",
      "    \n",
      "    # call the animate function each 10ms\n",
      "    anim = animation.FuncAnimation(fig, animate,\n",
      "                                   init_func=init, blit=True, # Efficient animation\n",
      "                                   interval=10)\n",
      "    plt.show()"
     ],
     "language": "python",
     "metadata": {},
     "outputs": []
    },
    {
     "cell_type": "code",
     "collapsed": false,
     "input": [
      "def test_visualize():\n",
      "#    particles = [Particle( 0.3,  0.5, +1 ),\n",
      "#                 Particle( 0.0, -0.5, -1 ), \n",
      "#                 Particle(-0.1, -0.4, +3)]\n",
      "    particles = [Particle(uniform(-1.0, 1.0),\n",
      "                          uniform(-1.0, 1.0),\n",
      "                          uniform(-1.0, 1.0))\n",
      "                     for i in range(100)]  \n",
      "    simulator = ParticleSimulator(particles)\n",
      "    visualize(simulator)\n",
      "    \n",
      "if __name__ == '__main__':\n",
      "    test_visualize()"
     ],
     "language": "python",
     "metadata": {},
     "outputs": [],
     "prompt_number": 58
    },
    {
     "cell_type": "code",
     "collapsed": false,
     "input": [
      "def test():\n",
      "    particles = [Particle( 0.3,  0.5, +1 ),\n",
      "                 Particle( 0.0, -0.5, -1 ), \n",
      "                 Particle(-0.1, -0.4, +3)]\n",
      "    \n",
      "    simulator = ParticleSimulator(particles)\n",
      "    \n",
      "    simulator.evolve(0.1)\n",
      "    \n",
      "    p0, p1, p2 = particles\n",
      "    \n",
      "    def fequal(a, b):\n",
      "        return abs(a-b) < 1e-5\n",
      "    \n",
      "    assert fequal(p0.x, 0.2102698450356825)\n",
      "    assert fequal(p0.y, 0.5438635787296997)\n",
      "        \n",
      "    assert fequal(p1.x, -0.0993347660567358)\n",
      "    assert fequal(p1.y, -0.4900342888538049)\n",
      "    \n",
      "    assert fequal(p2.x, 0.1913585038252641)\n",
      "    assert fequal(p2.y, -0.3652272210744360)\n",
      "    \n",
      "if __name__ == '__main__':\n",
      "    test()"
     ],
     "language": "python",
     "metadata": {},
     "outputs": [],
     "prompt_number": 68
    },
    {
     "cell_type": "code",
     "collapsed": false,
     "input": [
      "from random import uniform"
     ],
     "language": "python",
     "metadata": {},
     "outputs": []
    },
    {
     "cell_type": "code",
     "collapsed": false,
     "input": [
      "def benchmark():\n",
      "    particles = [Particle(uniform(-1.0, 1.0),\n",
      "                          uniform(-1.0, 1.0),\n",
      "                          uniform(-1.0, 1.0))\n",
      "                 for i in range(1000)]\n",
      "    \n",
      "    simulator = ParticleSimulator(particles)\n",
      "    simulator.evolve(0.1)\n",
      "    \n",
      "if __name__ == '__main__':\n",
      "    benchmark()"
     ],
     "language": "python",
     "metadata": {},
     "outputs": [],
     "prompt_number": 88
    },
    {
     "cell_type": "code",
     "collapsed": false,
     "input": [
      "%timeit benchmark"
     ],
     "language": "python",
     "metadata": {},
     "outputs": [
      {
       "output_type": "stream",
       "stream": "stdout",
       "text": [
        "100000000 loops, best of 3: 18.7 ns per loop\n"
       ]
      }
     ],
     "prompt_number": 89
    },
    {
     "cell_type": "code",
     "collapsed": false,
     "input": [
      "%prun benchmark()"
     ],
     "language": "python",
     "metadata": {},
     "outputs": []
    },
    {
     "cell_type": "code",
     "collapsed": false,
     "input": [
      "import dis"
     ],
     "language": "python",
     "metadata": {},
     "outputs": [],
     "prompt_number": 45
    },
    {
     "cell_type": "code",
     "collapsed": false,
     "input": [],
     "language": "python",
     "metadata": {},
     "outputs": []
    }
   ],
   "metadata": {}
  }
 ]
}